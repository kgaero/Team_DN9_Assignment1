{
  "nbformat": 4,
  "nbformat_minor": 0,
  "metadata": {
    "colab": {
      "provenance": []
    },
    "kernelspec": {
      "name": "python3",
      "display_name": "Python 3"
    },
    "language_info": {
      "name": "python"
    }
  },
  "cells": [
    {
      "cell_type": "code",
      "execution_count": null,
      "metadata": {
        "id": "x5BMTeKUAyCT"
      },
      "outputs": [],
      "source": [
        "\n"
      ]
    },
    {
      "cell_type": "markdown",
      "source": [
        "# Prompts Used\n",
        "\n",
        "## Preprocessing/Data Cleaning:\n",
        "*  Clean and preprocess the dataset by handling null values, parsing order dates into year/quarter/month, converting key fields to numeric types, and engineering features like Profit Margin for further analysis.\n",
        "\n",
        "## D- Discover\n",
        "- Aggregate KPIs by category, subcategory, and product using:  \n",
        "  SUM(sales), SUM(profit), AVG(profit margin), and COUNT(order_id).\n",
        "- Rank top 10 products and categories based on:  \n",
        "  Total Sales, Total Profit, and Profit Margin.\n",
        "- Group data by Year or Quarter to analyze temporal trends.\n",
        "- Identify product cycles and detect seasonal spikes or dips in performance.\n",
        "\n",
        "## I- Investigate\n",
        "\n",
        "- Explore discounting patterns across customer segments, regions, and subcategories.\n",
        "- Segment data into discount ranges (0%, 0.01–0.2, >0.2) and compare metrics like sales, profit, and profit margin.\n",
        "- Evaluate profitability across Consumer, Corporate, and Home Office segments.\n",
        "- Use Order Quarter to identify seasonal discount trends and detect performance volatility.\n",
        "- Create charts to see how discounts affect profit margins.\n",
        "- Check how much sales and profit each discount level brings on average.\n",
        "- Look at how often each discount level is used over time.\n",
        "- Find out which product categories and subcategories get the highest discounts.\n",
        "- See if giving more discounts leads to more sales or lower profits.\n",
        "\n",
        "## V - Validate\n",
        "\n",
        "- Check how discount, sales, quantity, and profit margin are related using a correlation chart.\n",
        "- Use a regression model to see which factors affect profit margin the most.\n",
        "- Compare average profit margins between no-discount and high-discount orders using a t-test.\n",
        "- Use ANOVA to check if profit margins are different across product categories.\n",
        "- Understand if the differences found are meaningful or just due to chance.\n",
        "- Check how different discount levels perform in each region.\n",
        "- Use a heatmap to show profit margins by discount and region.\n",
        "- See how different customer types (like Consumer or Corporate) buy from each product category.\n",
        "- Use a heatmap to show which customer and category pairs give the best profits.\n",
        "\n",
        "## E - Extend\n",
        "\n",
        "- Group products using Product Strategy Matrix\n",
        "- Find best and worst categories and subcategories by profit.  \n",
        "- See how discounts affect profit margins across categories and regions.  \n",
        "- Compare regions and customer segments for higher profits.  \n",
        "- Check seasonal trends using year and quarter data.  \n",
        "- Use heatmaps to view profit and transactions by discount and subcategory.\n",
        "\n",
        "\n"
      ],
      "metadata": {
        "id": "1TDm9xbScd4H"
      }
    }
  ]
}