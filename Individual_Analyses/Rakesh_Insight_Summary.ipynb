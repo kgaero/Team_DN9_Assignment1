{
  "nbformat": 4,
  "nbformat_minor": 0,
  "metadata": {
    "colab": {
      "provenance": []
    },
    "kernelspec": {
      "name": "python3",
      "display_name": "Python 3"
    },
    "language_info": {
      "name": "python"
    }
  },
  "cells": [
    {
      "cell_type": "markdown",
      "source": [
        "# Insight Summary\n",
        "\n",
        "Based on the DIVE analysis of the sales data, here is a one-page summary addressing the questions, structured around the DIVE methodology:\n",
        "\n",
        "## What drives sales performance across different dimensions? (Discover & Investigate)\n",
        "\n",
        "From the **Discover** phase, we observed overall sales trends and average performance across dimensions:\n",
        "\n",
        "*   **Time of Year:** Annual, quarterly, and monthly trends show a clear seasonal peak in November and December.\n",
        "*   **Average Performance by Dimension:** Average sales are higher in Technology and Furniture categories, in the South and East regions, and in the Home Office and Corporate segments (though Consumer has the highest volume).\n",
        "\n",
        "From the **Investigate** phase, we confirmed and deepened these insights:\n",
        "\n",
        "*   **Key Revenue Contributors:** Technology and Furniture, particularly subcategories like Chairs, Phones, Tables, and Storage, are the largest contributors to total sales.\n",
        "*   **Regional and Segment Contribution:** The East and West regions and the Consumer segment drive significant sales volume.\n",
        "*   **Discount Impact:** Analysis showed a weak direct correlation between discount and sales, suggesting other factors are more influential.\n",
        "\n",
        "## Which factors most impact revenue generation? (Investigate & Validate)\n",
        "\n",
        "Drawing primarily from the **Investigate** phase and confirmed by the **Validate** phase tests:\n",
        "\n",
        "*   **End-of-Year Seasonality (Investigate & Validate):** The consistent and substantial sales peak in November and December is the primary driver of the highest revenue periods, validated by checking consistency across years.\n",
        "*   **High Sales Volume in Key Areas (Investigate):** The increase in sales during peak periods and in high-performing categories/subcategories, regions (East/West), and the Consumer segment is mainly due to higher transaction volume.\n",
        "*   **Top Categories and Subcategories (Investigate & Validate):** The contribution of Technology and Furniture, and specific subcategories like Chairs, Phones, Tables, and Storage, is validated by their sustained high sales during peak times.\n",
        "\n",
        "## Where are the growth opportunities? (Extend)\n",
        "\n",
        "Based on the insights from the previous DIVE phases, the **Extend** phase identifies the following growth opportunities:\n",
        "\n",
        "*   **Capitalize on End-of-Year Seasonality (Extend):** Leverage the proven sales peak (from Discover & Investigate, validated in Validate) through targeted marketing, inventory optimization, and strategic promotions in high-performing areas.\n",
        "*   **Improve Profitability of Key Items (Extend):** Address the low/negative profit margins in high-sales subcategories like Tables, Storage, Machines, and Bookcases (identified in Investigate) through cost reduction, pricing, and profit-focused promotions.\n",
        "*   **Expand Reach in Underperforming Areas (Extend):** Apply successful strategies (identified in Investigate) from the East/West regions and Consumer segment to increase sales in the Central/South regions and Corporate/Home Office segments.\n",
        "*   **Optimize Promotional Strategy (Extend):** Shift away from broad, deep discounts (weak correlation found in Investigate, impact on profit seen in Validate) towards value-added and targeted promotions for better profitability.\n",
        "*   **Enhance Cross-selling and Upselling (Extend):** Increase average transaction value by promoting complementary and higher-margin products within high-performing categories and subcategories.\n",
        "\n",
        "This summary, aligned with the DIVE methodology, highlights the key drivers of sales and revenue and outlines actionable areas for future growth and profitability improvement."
      ],
      "metadata": {
        "id": "phUxdEZaEHB-"
      }
    }
  ]
}