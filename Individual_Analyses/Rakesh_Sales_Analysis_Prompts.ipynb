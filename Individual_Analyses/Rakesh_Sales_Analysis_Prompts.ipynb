{
  "nbformat": 4,
  "nbformat_minor": 0,
  "metadata": {
    "colab": {
      "provenance": []
    },
    "kernelspec": {
      "name": "python3",
      "display_name": "Python 3"
    },
    "language_info": {
      "name": "python"
    }
  },
  "cells": [
    {
      "cell_type": "markdown",
      "source": [
        "## Prompts Used in Sales Analysis\n",
        "\n",
        "Here are the prompts used in this analysis, categorized by the DIVE methodology step they correspond to:\n",
        "\n",
        "### Initial Setup and Data Load\n",
        "\n",
        "*   \"Read the mgmt599-rakesh-assignment-1.assignment1_eda.superstore_dataset table from BigQuery, perform exploratory data analysis\"\n",
        "\n",
        "### Discover (D)\n",
        "\n",
        "*   \"Visualize Sales Trend over time\"\n",
        "*   \"Analyze Sales Performance by Different Dimensions\"\n",
        "*   \"how sales is corelated to different dimensions. Produce charts and summary\"\n",
        "\n",
        "### Investigate (I)\n",
        "\n",
        "*   \"Analyze Sales Amount by Category and Subcategory\"\n",
        "*   \"Analyze Monthly Sales Trend by Region\"\n",
        "*   \"Analyze Monthly Sales Trend by Category\"\n",
        "*   \"Deep dive into high-performing categories/subcategories\"\n",
        "*   \"Investigate profitability issues in specific subcategories\"\n",
        "*   \"Analyze Monthly Sales Trend by Segment\"\n",
        "*   \"Analyze performance in high-performing regions and segments\"\n",
        "*   \"Analyze the impact of Discount on Sales\"\n",
        "*   \"Identify High-Sales Periods and Filter Data\"\n",
        "*   \"Analyze Sales by Dimension in High-Sales Periods\"\n",
        "*   \"Analyze Quantity and Profit in High-Sales Periods\"\n",
        "*   \"Summarize Predictive Factors\"\n",
        "\n",
        "### Validate (V)\n",
        "\n",
        "*   \"Check for Consistency of High-Sales Months Across Years\"\n",
        "*   \"Contribution of Top Categories/Subcategories in High-Sales Months\"\n",
        "*   \"Distribution of Sales Across Discount Levels\"\n",
        "*   \"How would you validate that investigate summary is not due to data collection bias?\"\n",
        "*   \"Design 3 tests to confirm the Investigate Summary using the available data\"\n",
        "\n",
        "### Extend (E)\n",
        "\n",
        "*   \"Analyze strategies for end-of-year seasonality\"\n",
        "*   \"Optimize discount and promotional strategies\"\n",
        "*   \"Synthesize findings and formulate growth recommendations\"\n",
        "*   \"Analyze strategies for end-of-year seasonality\"\n",
        "*   \"Immediate Actions: What can be done today?\"\n",
        "*   \"Strategic Implications: How does this change our approach?\"\n",
        "*   \"Future Investigations: What follow-up analysis is needed?\"\n",
        "*   \"Risk Mitigation: What could go wrong with our recommendations?\"\n"
      ],
      "metadata": {
        "id": "hXRoWuEqIpYY"
      }
    }
  ]
}