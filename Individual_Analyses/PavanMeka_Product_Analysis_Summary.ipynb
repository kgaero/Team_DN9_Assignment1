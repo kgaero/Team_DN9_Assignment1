{
  "nbformat": 4,
  "nbformat_minor": 0,
  "metadata": {
    "colab": {
      "provenance": []
    },
    "kernelspec": {
      "name": "python3",
      "display_name": "Python 3"
    },
    "language_info": {
      "name": "python"
    }
  },
  "cells": [
    {
      "cell_type": "markdown",
      "source": [
        "### **ANALYSIS** **AND** **CONCLUSION**\n",
        "\n",
        "**1. Which products/categories perform best?**\n",
        "\n",
        "*   **Best Performing Product (Overall):**\n",
        "    *   Canon imageCLASS 2200 Advanced Copier is the top performer by both Total Sales and Total Profit. It also boasts a healthy Average Profit Margin (~38%). This product is classified in the Scale zone (High Sales, High Profit).\n",
        "*   **Best Performing Products (High Profit Margin, but potentially lower sales):**\n",
        "    *   Products in theOffice Supplies category like *Avery* and *Adams* consistently reached 50% profit margins. While highly profitable *per unit*, theirlow sales volumes indicate they are niche products.\n",
        "*  **Best Performing Category:**\n",
        "    *  **Technology** is the leading category across all key performance indicators:\n",
        "        *   Total Sales: \\$836K\n",
        "        *   Total Profit: \\$145K\n",
        "        *   Average Profit Margin: 15.6%\n",
        "*   **Second Best Performing Category:**\n",
        "    *   Office Supplies follows Technology, demonstrating strong, albeit slightly lower, overall performance.\n",
        "*   **Highest Profit Margin Subcategories**:\n",
        "    *   *Labels (43%)*, *Paper (42.5%)*, *Envelopes (42.3%)*, and *Copiers (31.7%)* show the highest average profit margins.\n",
        "\n",
        "**2. What drives product profitability?**\n",
        "\n",
        "*   **Discount:** The analysis strongly indicates that discount is the primary driver of profitability.\n",
        "    *   Higher discounts lead to significantly lower profit margins. The correlation matrix shows a strong negative correlation (-0.86) between `discount` and `Profit Margin`.\n",
        "    *   The regression analysis confirms that `discount` is the most significant predictor of `Profit Margin`, with a negative coefficient.\n",
        "    *   The hypothesis test comparing profit margins between 0% discount and >20% discount groups found a statistically significant difference, with deep discounts resulting in significantly lower (and often negative) margins.\n",
        "    *   Orders with 0% Discount have the highest average profit margin (34%).\n",
        "    *   Discounts greater than 20% result in negative profit margins (-78%).\n",
        "*   **Category and Subcategory:** The product category and subcategory significantly influence profitability.\n",
        "    *   Technology and Office Supplies have higher average profit margins compared to Furniture.\n",
        "    *   Certain subcategories (like Labels, Paper, Envelopes, Copiers) are inherently more profitable than others (like Tables, Machines, Binders, Bookcases).\n",
        "    *   The ANOVA test confirms a statistically significant difference in average profit margins among categories.\n",
        "*   **Customer Segment:** The customer segment also impacts profitability.\n",
        "    *   Home Office (14.3%) and Corporate (12.1%) segments are more profitable on average than the Consumer (11.2%) segment, despite the Consumer segment having the most transactions.\n",
        "*   **Region**: Regional performance varies significantly in terms of profitability.\n",
        "    *   The West region has the highest average profit margin (21.9%), while the Central region shows negative average profit margins.\n",
        "*   **State:** At a more granular level, profitability varies by state, with some states consistently showing negative average profit (e.g., Illinois, Texas, Ohio, Pennsylvania).\n",
        "*   **Seasonality and Discount Patterns:** Discounting patterns, particularly the spike in deep discounting during Q4, negatively impact overall profitability during those periods.\n",
        "\n",
        "**3. Where should we focus product strategy?**\n",
        "\n",
        "Based on the findings, the product strategy should focus on the following areas:\n",
        "\n",
        "*   **Prioritize \"Scale\" Products:** Invest in and promote products classified in the **Scale** zone (High Sales, High Profit), such as *Canon Copiers*. These are the most valuable products and drive significant revenue and profit.\n",
        "*   **Optimize \"Optimize\" Products:** For products in the **Optimize** zone (High Sales, Low Profit) like *Tables, Binders, and Bookcases*, strategically review pricing, discounting, and cost structures. Consider reducing deep discounts, exploring alternative sourcing, or potentially phasing out if profitability cannot be improved.\n",
        "*   **Promote \"Promote\" Products:** Products in the **Promote** zone (Low Sales, High Profit) like *Labels, Paper, and Envelopes* should be actively promoted to increase sales volume while maintaining their high profit margins. These represent missed opportunities if not effectively marketed.\n",
        "*   **Evaluate \"Phase Out\" Products:** Products in the **Phase Out** zone (Low Sales, Low Profit) may require discontinuation or significant restructuring.\n",
        "*   **Focus on Profitable Categories and Subcategories:**\n",
        "    *   Continue to invest in and grow the **Technology** and **Office Supplies** categories, leveraging their inherent profitability.\n",
        "    *   Specifically target high-margin subcategories like *Labels, Paper, Envelopes, and Copiers* across categories.\n",
        "    *   Carefully evaluate the **Furniture** category's strategy due to its low profitability despite high sales. Explore ways to improve margins within this category.\n",
        "*   **Refine Discounting Strategy:**\n",
        "    *   **Significantly reduce or eliminate deep discounts (greater than 20%)**, as they consistently lead to losses across all regions.\n",
        "    *   Use **moderate discounts** strategically, especially in profitable categories like **Office Supplies** and **Technology**, where they still allow for positive margins.\n",
        "    *   Implement tighter controls on discounting, particularly in regions or on products that have historically shown negative profitability with discounts.\n",
        "*   **Target Profitable Segments and Regions:**\n",
        "    *   Increase focus on the **Home Office** and **Corporate** customer segments through targeted marketing and sales efforts, as they are more profitable than the Consumer segment.\n",
        "    *   Develop strategies to improve profitability in underperforming regions, particularly the **Central region**. This might involve adjusting pricing, discount levels, or sales strategies in that specific region.\n",
        "    *   Address the profitability issues in states with negative average profit margins by investigating the root causes (e.g., excessive discounting, high operational costs) and implementing corrective actions.\n",
        "*   **Strategically Plan for Seasonality:**\n",
        "    *   While Q4 is a high-volume period, the tendency for increased deep discounting during this time negatively impacts profitability.\n",
        "    *   Consider **controlled Q4 discounting** and potentially **shifting promotions to earlier quarters (e.g., Q3)** to balance sales volume with profitability throughout the year.\n"
      ],
      "metadata": {
        "id": "H019IhDCp5cf"
      }
    }
  ]
}